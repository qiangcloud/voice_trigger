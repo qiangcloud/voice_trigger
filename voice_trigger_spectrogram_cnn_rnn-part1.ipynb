{
 "cells": [
  {
   "cell_type": "markdown",
   "metadata": {},
   "source": [
    "# 语音唤醒（用Spectrogram信号）"
   ]
  },
  {
   "cell_type": "markdown",
   "metadata": {},
   "source": [
    "思路：提取spectrogram属性，使用用1D CNN+RNN进行学习。\n",
    "\n",
    "数据集是mini_speech_commands，目标command是['down', 'go', 'left', 'no', 'right', 'stop', 'up', 'yes']"
   ]
  },
  {
   "cell_type": "code",
   "execution_count": 1,
   "metadata": {},
   "outputs": [],
   "source": [
    "import pandas as pd\n",
    "\n",
    "import os\n",
    "import pathlib\n",
    "import glob\n",
    "\n",
    "import matplotlib.pyplot as plt\n",
    "import numpy as np\n",
    "import seaborn as sns\n",
    "\n",
    "import librosa\n",
    "\n",
    "import sklearn as sk\n",
    "import scipy"
   ]
  },
  {
   "cell_type": "markdown",
   "metadata": {},
   "source": [
    "## Import the Speech Commands dataset"
   ]
  },
  {
   "cell_type": "markdown",
   "metadata": {},
   "source": [
    "第1步：将所有的wav文件组成list"
   ]
  },
  {
   "cell_type": "code",
   "execution_count": 2,
   "metadata": {},
   "outputs": [],
   "source": [
    "data_dir = pathlib.Path('data/mini_speech_commands')\n",
    "fileset = [file for file in glob.glob(str(data_dir) + \"**/**/*.wav\", recursive=True)]"
   ]
  },
  {
   "cell_type": "code",
   "execution_count": 3,
   "metadata": {},
   "outputs": [
    {
     "data": {
      "text/plain": [
       "8000"
      ]
     },
     "execution_count": 3,
     "metadata": {},
     "output_type": "execute_result"
    }
   ],
   "source": [
    "len(fileset)"
   ]
  },
  {
   "cell_type": "markdown",
   "metadata": {},
   "source": [
    "第2步：list导入到DataFrame"
   ]
  },
  {
   "cell_type": "code",
   "execution_count": 4,
   "metadata": {},
   "outputs": [],
   "source": [
    "dataset = pd.DataFrame(fileset, columns=['path'])"
   ]
  },
  {
   "cell_type": "markdown",
   "metadata": {},
   "source": [
    "第3步：将文件夹的名称提取作为指令"
   ]
  },
  {
   "cell_type": "code",
   "execution_count": 5,
   "metadata": {},
   "outputs": [],
   "source": [
    "dataset['command'] = dataset['path'].apply(lambda x : os.path.basename(os.path.dirname(x)))"
   ]
  },
  {
   "cell_type": "code",
   "execution_count": 6,
   "metadata": {},
   "outputs": [
    {
     "data": {
      "text/html": [
       "<div>\n",
       "<style scoped>\n",
       "    .dataframe tbody tr th:only-of-type {\n",
       "        vertical-align: middle;\n",
       "    }\n",
       "\n",
       "    .dataframe tbody tr th {\n",
       "        vertical-align: top;\n",
       "    }\n",
       "\n",
       "    .dataframe thead th {\n",
       "        text-align: right;\n",
       "    }\n",
       "</style>\n",
       "<table border=\"1\" class=\"dataframe\">\n",
       "  <thead>\n",
       "    <tr style=\"text-align: right;\">\n",
       "      <th></th>\n",
       "      <th>path</th>\n",
       "      <th>command</th>\n",
       "    </tr>\n",
       "  </thead>\n",
       "  <tbody>\n",
       "    <tr>\n",
       "      <th>0</th>\n",
       "      <td>data\\mini_speech_commands\\down\\004ae714_nohash...</td>\n",
       "      <td>down</td>\n",
       "    </tr>\n",
       "    <tr>\n",
       "      <th>1</th>\n",
       "      <td>data\\mini_speech_commands\\down\\00b01445_nohash...</td>\n",
       "      <td>down</td>\n",
       "    </tr>\n",
       "    <tr>\n",
       "      <th>2</th>\n",
       "      <td>data\\mini_speech_commands\\down\\00f0204f_nohash...</td>\n",
       "      <td>down</td>\n",
       "    </tr>\n",
       "    <tr>\n",
       "      <th>3</th>\n",
       "      <td>data\\mini_speech_commands\\down\\0132a06d_nohash...</td>\n",
       "      <td>down</td>\n",
       "    </tr>\n",
       "    <tr>\n",
       "      <th>4</th>\n",
       "      <td>data\\mini_speech_commands\\down\\0132a06d_nohash...</td>\n",
       "      <td>down</td>\n",
       "    </tr>\n",
       "  </tbody>\n",
       "</table>\n",
       "</div>"
      ],
      "text/plain": [
       "                                                path command\n",
       "0  data\\mini_speech_commands\\down\\004ae714_nohash...    down\n",
       "1  data\\mini_speech_commands\\down\\00b01445_nohash...    down\n",
       "2  data\\mini_speech_commands\\down\\00f0204f_nohash...    down\n",
       "3  data\\mini_speech_commands\\down\\0132a06d_nohash...    down\n",
       "4  data\\mini_speech_commands\\down\\0132a06d_nohash...    down"
      ]
     },
     "execution_count": 6,
     "metadata": {},
     "output_type": "execute_result"
    }
   ],
   "source": [
    "dataset.head()"
   ]
  },
  {
   "cell_type": "markdown",
   "metadata": {},
   "source": [
    "第4步：提取spectrum并写入dataframe"
   ]
  },
  {
   "cell_type": "code",
   "execution_count": 7,
   "metadata": {},
   "outputs": [],
   "source": [
    "# 计算时频谱\n",
    "\n",
    "def log_specgram(audio, sample_rate, window_size=20, step_size=10, eps=1e-10):\n",
    "    nperseg = int(round(window_size * sample_rate / 1e3))\n",
    "    noverlap = int(round(step_size * sample_rate /1e3))\n",
    "    freqs, times, spec = scipy.signal.spectrogram(audio, fs=sample_rate, window='hann', nperseg=nperseg, noverlap=noverlap, detrend=False)\n",
    "    return freqs, times, np.log(spec.T.astype(np.float32) + eps)"
   ]
  },
  {
   "cell_type": "code",
   "execution_count": 8,
   "metadata": {},
   "outputs": [
    {
     "name": "stdout",
     "output_type": "stream",
     "text": [
      "[-130 -135 -131 ... -154 -190 -224]\n",
      "(16000,) int16\n",
      "[-0.00396729 -0.00411987 -0.0039978  ... -0.00469971 -0.00579834\n",
      " -0.00683594]\n",
      "(16000,) float32\n"
     ]
    }
   ],
   "source": [
    "# 查看scipy.io读取的数据和librosa的区别\n",
    "from scipy.io import wavfile\n",
    "import scipy.io\n",
    "\n",
    "sample_rate, signal= scipy.io.wavfile.read(dataset.loc[0,'path'])\n",
    "print(signal)\n",
    "print(signal.shape, signal.dtype)\n",
    "s, sr = librosa.load(dataset.loc[0,'path'], sr=16000)\n",
    "print(s)\n",
    "print(s.shape,s.dtype)"
   ]
  },
  {
   "cell_type": "code",
   "execution_count": 9,
   "metadata": {},
   "outputs": [],
   "source": [
    "# 输入文件的路径返回MFCC\n",
    "\n",
    "def get_specgram(file_path):\n",
    "    sample_rate, signal= scipy.io.wavfile.read(file_path)\n",
    "    # 统一输入音频文件长度，当音频文件大于1秒时切尾，当音频长度小于1秒时补零\n",
    "    signal_padding = np.zeros((16000,))\n",
    "    if len(signal) >= 16000:\n",
    "        signal_padding = signal[:16000]\n",
    "    else:        \n",
    "        signal_padding[:len(signal)] = signal\n",
    "    # 获取频谱\n",
    "    _, _, specgram = log_specgram(signal_padding, sample_rate=sample_rate)\n",
    "\n",
    "    return specgram"
   ]
  },
  {
   "cell_type": "code",
   "execution_count": 10,
   "metadata": {},
   "outputs": [
    {
     "data": {
      "text/plain": [
       "'data\\\\mini_speech_commands\\\\down\\\\004ae714_nohash_0.wav'"
      ]
     },
     "execution_count": 10,
     "metadata": {},
     "output_type": "execute_result"
    }
   ],
   "source": [
    "# 测试\n",
    "file_path_check = dataset.loc[0,'path']\n",
    "file_path_check "
   ]
  },
  {
   "cell_type": "code",
   "execution_count": 11,
   "metadata": {},
   "outputs": [],
   "source": [
    "spec_check = get_specgram(file_path_check)"
   ]
  },
  {
   "cell_type": "code",
   "execution_count": 12,
   "metadata": {},
   "outputs": [
    {
     "data": {
      "text/plain": [
       "(99, 161)"
      ]
     },
     "execution_count": 12,
     "metadata": {},
     "output_type": "execute_result"
    }
   ],
   "source": [
    "spec_check.shape"
   ]
  },
  {
   "cell_type": "code",
   "execution_count": 13,
   "metadata": {},
   "outputs": [
    {
     "data": {
      "text/plain": [
       "<matplotlib.image.AxesImage at 0x186a39f4100>"
      ]
     },
     "execution_count": 13,
     "metadata": {},
     "output_type": "execute_result"
    },
    {
     "data": {
      "image/png": "[encoded data removed]",
      "text/plain": [
       "<Figure size 432x288 with 1 Axes>"
      ]
     },
     "metadata": {
      "needs_background": "light"
     },
     "output_type": "display_data"
    }
   ],
   "source": [
    "plt.imshow(spec_check)"
   ]
  },
  {
   "cell_type": "code",
   "execution_count": 14,
   "metadata": {},
   "outputs": [],
   "source": [
    "# 获取每个文件的spectrogram\n",
    "dataset['spec'] = dataset['path'].apply(lambda x : get_specgram(x))"
   ]
  },
  {
   "cell_type": "code",
   "execution_count": 15,
   "metadata": {},
   "outputs": [
    {
     "data": {
      "text/html": [
       "<div>\n",
       "<style scoped>\n",
       "    .dataframe tbody tr th:only-of-type {\n",
       "        vertical-align: middle;\n",
       "    }\n",
       "\n",
       "    .dataframe tbody tr th {\n",
       "        vertical-align: top;\n",
       "    }\n",
       "\n",
       "    .dataframe thead th {\n",
       "        text-align: right;\n",
       "    }\n",
       "</style>\n",
       "<table border=\"1\" class=\"dataframe\">\n",
       "  <thead>\n",
       "    <tr style=\"text-align: right;\">\n",
       "      <th></th>\n",
       "      <th>path</th>\n",
       "      <th>command</th>\n",
       "      <th>spec</th>\n",
       "    </tr>\n",
       "  </thead>\n",
       "  <tbody>\n",
       "    <tr>\n",
       "      <th>0</th>\n",
       "      <td>data\\mini_speech_commands\\down\\004ae714_nohash...</td>\n",
       "      <td>down</td>\n",
       "      <td>[[6.1564674, 5.6721416, 1.4785006, 1.0322386, ...</td>\n",
       "    </tr>\n",
       "    <tr>\n",
       "      <th>1</th>\n",
       "      <td>data\\mini_speech_commands\\down\\00b01445_nohash...</td>\n",
       "      <td>down</td>\n",
       "      <td>[[-8.119339, -7.100962, -2.9746146, -1.9071885...</td>\n",
       "    </tr>\n",
       "    <tr>\n",
       "      <th>2</th>\n",
       "      <td>data\\mini_speech_commands\\down\\00f0204f_nohash...</td>\n",
       "      <td>down</td>\n",
       "      <td>[[3.2663877, 6.1833525, 5.1544065, 5.402227, 5...</td>\n",
       "    </tr>\n",
       "    <tr>\n",
       "      <th>3</th>\n",
       "      <td>data\\mini_speech_commands\\down\\0132a06d_nohash...</td>\n",
       "      <td>down</td>\n",
       "      <td>[[-7.466669, -9.616711, -4.86994, -3.218716, -...</td>\n",
       "    </tr>\n",
       "    <tr>\n",
       "      <th>4</th>\n",
       "      <td>data\\mini_speech_commands\\down\\0132a06d_nohash...</td>\n",
       "      <td>down</td>\n",
       "      <td>[[-5.385032, -4.7529283, -4.9070916, -4.096608...</td>\n",
       "    </tr>\n",
       "  </tbody>\n",
       "</table>\n",
       "</div>"
      ],
      "text/plain": [
       "                                                path command  \\\n",
       "0  data\\mini_speech_commands\\down\\004ae714_nohash...    down   \n",
       "1  data\\mini_speech_commands\\down\\00b01445_nohash...    down   \n",
       "2  data\\mini_speech_commands\\down\\00f0204f_nohash...    down   \n",
       "3  data\\mini_speech_commands\\down\\0132a06d_nohash...    down   \n",
       "4  data\\mini_speech_commands\\down\\0132a06d_nohash...    down   \n",
       "\n",
       "                                                spec  \n",
       "0  [[6.1564674, 5.6721416, 1.4785006, 1.0322386, ...  \n",
       "1  [[-8.119339, -7.100962, -2.9746146, -1.9071885...  \n",
       "2  [[3.2663877, 6.1833525, 5.1544065, 5.402227, 5...  \n",
       "3  [[-7.466669, -9.616711, -4.86994, -3.218716, -...  \n",
       "4  [[-5.385032, -4.7529283, -4.9070916, -4.096608...  "
      ]
     },
     "execution_count": 15,
     "metadata": {},
     "output_type": "execute_result"
    }
   ],
   "source": [
    "dataset.head()"
   ]
  },
  {
   "cell_type": "code",
   "execution_count": 16,
   "metadata": {},
   "outputs": [],
   "source": [
    "# 用sklearn.preprocessing.LabelEncoder将指令转换为数字\n",
    "le = sk.preprocessing.LabelEncoder()\n",
    "dataset['cmd_value'] = le.fit_transform(dataset['command'])"
   ]
  },
  {
   "cell_type": "code",
   "execution_count": 17,
   "metadata": {
    "scrolled": true
   },
   "outputs": [
    {
     "data": {
      "text/html": [
       "<div>\n",
       "<style scoped>\n",
       "    .dataframe tbody tr th:only-of-type {\n",
       "        vertical-align: middle;\n",
       "    }\n",
       "\n",
       "    .dataframe tbody tr th {\n",
       "        vertical-align: top;\n",
       "    }\n",
       "\n",
       "    .dataframe thead th {\n",
       "        text-align: right;\n",
       "    }\n",
       "</style>\n",
       "<table border=\"1\" class=\"dataframe\">\n",
       "  <thead>\n",
       "    <tr style=\"text-align: right;\">\n",
       "      <th></th>\n",
       "      <th>path</th>\n",
       "      <th>command</th>\n",
       "      <th>spec</th>\n",
       "      <th>cmd_value</th>\n",
       "    </tr>\n",
       "  </thead>\n",
       "  <tbody>\n",
       "    <tr>\n",
       "      <th>7995</th>\n",
       "      <td>data\\mini_speech_commands\\yes\\fe1916ba_nohash_...</td>\n",
       "      <td>yes</td>\n",
       "      <td>[[-10.874792, -5.53589, -3.86621, -4.4400816, ...</td>\n",
       "      <td>7</td>\n",
       "    </tr>\n",
       "    <tr>\n",
       "      <th>7996</th>\n",
       "      <td>data\\mini_speech_commands\\yes\\fe5c4a7a_nohash_...</td>\n",
       "      <td>yes</td>\n",
       "      <td>[[7.4970326, 8.869189, 7.062622, 7.239739, 10....</td>\n",
       "      <td>7</td>\n",
       "    </tr>\n",
       "    <tr>\n",
       "      <th>7997</th>\n",
       "      <td>data\\mini_speech_commands\\yes\\ff21fb59_nohash_...</td>\n",
       "      <td>yes</td>\n",
       "      <td>[[1.7132064, 5.4771934, 5.961012, 3.4359176, 1...</td>\n",
       "      <td>7</td>\n",
       "    </tr>\n",
       "    <tr>\n",
       "      <th>7998</th>\n",
       "      <td>data\\mini_speech_commands\\yes\\ffd2ba2f_nohash_...</td>\n",
       "      <td>yes</td>\n",
       "      <td>[[0.16514386, 2.859499, 6.4408054, 7.1973853, ...</td>\n",
       "      <td>7</td>\n",
       "    </tr>\n",
       "    <tr>\n",
       "      <th>7999</th>\n",
       "      <td>data\\mini_speech_commands\\yes\\ffd2ba2f_nohash_...</td>\n",
       "      <td>yes</td>\n",
       "      <td>[[-5.4296527, -3.146472, -1.6233717, -2.900053...</td>\n",
       "      <td>7</td>\n",
       "    </tr>\n",
       "  </tbody>\n",
       "</table>\n",
       "</div>"
      ],
      "text/plain": [
       "                                                   path command  \\\n",
       "7995  data\\mini_speech_commands\\yes\\fe1916ba_nohash_...     yes   \n",
       "7996  data\\mini_speech_commands\\yes\\fe5c4a7a_nohash_...     yes   \n",
       "7997  data\\mini_speech_commands\\yes\\ff21fb59_nohash_...     yes   \n",
       "7998  data\\mini_speech_commands\\yes\\ffd2ba2f_nohash_...     yes   \n",
       "7999  data\\mini_speech_commands\\yes\\ffd2ba2f_nohash_...     yes   \n",
       "\n",
       "                                                   spec  cmd_value  \n",
       "7995  [[-10.874792, -5.53589, -3.86621, -4.4400816, ...          7  \n",
       "7996  [[7.4970326, 8.869189, 7.062622, 7.239739, 10....          7  \n",
       "7997  [[1.7132064, 5.4771934, 5.961012, 3.4359176, 1...          7  \n",
       "7998  [[0.16514386, 2.859499, 6.4408054, 7.1973853, ...          7  \n",
       "7999  [[-5.4296527, -3.146472, -1.6233717, -2.900053...          7  "
      ]
     },
     "execution_count": 17,
     "metadata": {},
     "output_type": "execute_result"
    }
   ],
   "source": [
    "dataset.tail()"
   ]
  },
  {
   "cell_type": "markdown",
   "metadata": {},
   "source": [
    "## Build and train the model"
   ]
  },
  {
   "cell_type": "code",
   "execution_count": 18,
   "metadata": {},
   "outputs": [
    {
     "data": {
      "text/plain": [
       "array(['down', 'go', 'left', 'no', 'right', 'stop', 'up', 'yes'],\n",
       "      dtype=object)"
      ]
     },
     "execution_count": 18,
     "metadata": {},
     "output_type": "execute_result"
    }
   ],
   "source": [
    "# 命令类别\n",
    "le.classes_"
   ]
  },
  {
   "cell_type": "code",
   "execution_count": 19,
   "metadata": {},
   "outputs": [],
   "source": [
    "from tensorflow.keras import backend as K\n",
    "from tensorflow.keras.layers import Dense, Dropout, Flatten, Conv1D, Input, MaxPooling1D, LSTM\n",
    "from tensorflow.keras.layers import BatchNormalization, Activation\n",
    "from tensorflow.keras.models import Model\n",
    "from tensorflow.keras.callbacks import EarlyStopping, ModelCheckpoint"
   ]
  },
  {
   "cell_type": "code",
   "execution_count": 20,
   "metadata": {},
   "outputs": [
    {
     "name": "stdout",
     "output_type": "stream",
     "text": [
      "Model: \"functional_1\"\n",
      "_________________________________________________________________\n",
      "Layer (type)                 Output Shape              Param #   \n",
      "=================================================================\n",
      "input_1 (InputLayer)         [(None, 99, 161)]         0         \n",
      "_________________________________________________________________\n",
      "conv1d (Conv1D)              (None, 23, 256)           412416    \n",
      "_________________________________________________________________\n",
      "batch_normalization (BatchNo (None, 23, 256)           1024      \n",
      "_________________________________________________________________\n",
      "activation (Activation)      (None, 23, 256)           0         \n",
      "_________________________________________________________________\n",
      "dropout (Dropout)            (None, 23, 256)           0         \n",
      "_________________________________________________________________\n",
      "lstm (LSTM)                  (None, 23, 128)           197120    \n",
      "_________________________________________________________________\n",
      "lstm_1 (LSTM)                (None, 128)               131584    \n",
      "_________________________________________________________________\n",
      "dense (Dense)                (None, 64)                8256      \n",
      "_________________________________________________________________\n",
      "dropout_1 (Dropout)          (None, 64)                0         \n",
      "_________________________________________________________________\n",
      "dense_1 (Dense)              (None, 8)                 520       \n",
      "=================================================================\n",
      "Total params: 750,920\n",
      "Trainable params: 750,408\n",
      "Non-trainable params: 512\n",
      "_________________________________________________________________\n"
     ]
    }
   ],
   "source": [
    "input_dim = (99, 161)\n",
    "output_dim = len(le.classes_)\n",
    "dropout = 0.2\n",
    "\n",
    "input_data = Input(shape=input_dim)\n",
    "x = Conv1D(filters=256, kernel_size=10, strides=4)(input_data)\n",
    "x = BatchNormalization()(x)\n",
    "x = Activation('relu')(x)\n",
    "x = Dropout(dropout)(x)\n",
    "\n",
    "x = LSTM(128, activation='relu', return_sequences=True, dropout=dropout)(x)\n",
    "x = LSTM(128, activation='relu', return_sequences=False, dropout=dropout)(x)\n",
    "\n",
    "x = Dense(units=64, activation='relu')(x)\n",
    "x = Dropout(dropout)(x)\n",
    "\n",
    "output_data = Dense(output_dim, activation='softmax')(x)\n",
    "\n",
    "K.clear_session\n",
    "model = Model(inputs=input_data, outputs=output_data)\n",
    "model.summary()"
   ]
  },
  {
   "cell_type": "code",
   "execution_count": 21,
   "metadata": {},
   "outputs": [],
   "source": [
    "from tensorflow.keras.optimizers import Adam, SGD\n",
    "from tensorflow.keras.callbacks import TensorBoard\n",
    "\n",
    "sgd = SGD(lr=0.00001, clipnorm=1.0)\n",
    "adam = Adam(lr=1e-4, clipnorm=1.0)\n",
    "model.compile(\n",
    "    loss='sparse_categorical_crossentropy',\n",
    "    optimizer=adam,\n",
    "    metrics=['accuracy'],\n",
    ")"
   ]
  },
  {
   "cell_type": "code",
   "execution_count": 22,
   "metadata": {},
   "outputs": [],
   "source": [
    "X = np.array([i for i in dataset['spec']])"
   ]
  },
  {
   "cell_type": "code",
   "execution_count": 23,
   "metadata": {},
   "outputs": [
    {
     "data": {
      "text/plain": [
       "(8000, 99, 161)"
      ]
     },
     "execution_count": 23,
     "metadata": {},
     "output_type": "execute_result"
    }
   ],
   "source": [
    "X.shape"
   ]
  },
  {
   "cell_type": "code",
   "execution_count": 24,
   "metadata": {},
   "outputs": [],
   "source": [
    "y = np.array(dataset['cmd_value'])"
   ]
  },
  {
   "cell_type": "code",
   "execution_count": 25,
   "metadata": {},
   "outputs": [
    {
     "data": {
      "text/plain": [
       "(8000,)"
      ]
     },
     "execution_count": 25,
     "metadata": {},
     "output_type": "execute_result"
    }
   ],
   "source": [
    "y.shape"
   ]
  },
  {
   "cell_type": "code",
   "execution_count": 26,
   "metadata": {},
   "outputs": [],
   "source": [
    "X_train, X_test, y_train, y_test = sk.model_selection.train_test_split(X, y, test_size=0.2, random_state=42)"
   ]
  },
  {
   "cell_type": "code",
   "execution_count": 27,
   "metadata": {},
   "outputs": [
    {
     "name": "stdout",
     "output_type": "stream",
     "text": [
      "Epoch 1/50\n",
      "  1/100 [..............................] - ETA: 0s - loss: 2.1225 - accuracy: 0.1719WARNING:tensorflow:From C:\\Users\\002706\\Anaconda3\\envs\\tf\\lib\\site-packages\\tensorflow\\python\\ops\\summary_ops_v2.py:1277: stop (from tensorflow.python.eager.profiler) is deprecated and will be removed after 2020-07-01.\n",
      "Instructions for updating:\n",
      "use `tf.profiler.experimental.stop` instead.\n",
      "100/100 [==============================] - ETA: 0s - loss: 1.8759 - accuracy: 0.2900\n",
      "Epoch 00001: val_accuracy improved from -inf to 0.39375, saving model to best_model.hdf5\n",
      "100/100 [==============================] - 39s 388ms/step - loss: 1.8759 - accuracy: 0.2900 - val_loss: 1.7331 - val_accuracy: 0.3938\n",
      "Epoch 2/50\n",
      "100/100 [==============================] - ETA: 0s - loss: 1.4922 - accuracy: 0.4573\n",
      "Epoch 00002: val_accuracy improved from 0.39375 to 0.50563, saving model to best_model.hdf5\n",
      "100/100 [==============================] - 40s 398ms/step - loss: 1.4922 - accuracy: 0.4573 - val_loss: 1.3738 - val_accuracy: 0.5056\n",
      "Epoch 3/50\n",
      "100/100 [==============================] - ETA: 0s - loss: 1.2645 - accuracy: 0.5353\n",
      "Epoch 00003: val_accuracy improved from 0.50563 to 0.59375, saving model to best_model.hdf5\n",
      "100/100 [==============================] - 39s 392ms/step - loss: 1.2645 - accuracy: 0.5353 - val_loss: 1.1177 - val_accuracy: 0.5938\n",
      "Epoch 4/50\n",
      "100/100 [==============================] - ETA: 0s - loss: 1.0863 - accuracy: 0.5992\n",
      "Epoch 00004: val_accuracy improved from 0.59375 to 0.67188, saving model to best_model.hdf5\n",
      "100/100 [==============================] - 38s 379ms/step - loss: 1.0863 - accuracy: 0.5992 - val_loss: 1.0126 - val_accuracy: 0.6719\n",
      "Epoch 5/50\n",
      "100/100 [==============================] - ETA: 0s - loss: 0.9571 - accuracy: 0.6409\n",
      "Epoch 00005: val_accuracy improved from 0.67188 to 0.71562, saving model to best_model.hdf5\n",
      "100/100 [==============================] - 39s 385ms/step - loss: 0.9571 - accuracy: 0.6409 - val_loss: 0.8128 - val_accuracy: 0.7156\n",
      "Epoch 6/50\n",
      "100/100 [==============================] - ETA: 0s - loss: 0.8359 - accuracy: 0.6981\n",
      "Epoch 00006: val_accuracy improved from 0.71562 to 0.76938, saving model to best_model.hdf5\n",
      "100/100 [==============================] - 38s 378ms/step - loss: 0.8359 - accuracy: 0.6981 - val_loss: 0.6929 - val_accuracy: 0.7694\n",
      "Epoch 7/50\n",
      "100/100 [==============================] - ETA: 0s - loss: 0.7493 - accuracy: 0.7427\n",
      "Epoch 00007: val_accuracy improved from 0.76938 to 0.79062, saving model to best_model.hdf5\n",
      "100/100 [==============================] - 38s 379ms/step - loss: 0.7493 - accuracy: 0.7427 - val_loss: 0.5947 - val_accuracy: 0.7906\n",
      "Epoch 8/50\n",
      "100/100 [==============================] - ETA: 0s - loss: 0.6595 - accuracy: 0.7672\n",
      "Epoch 00008: val_accuracy improved from 0.79062 to 0.81500, saving model to best_model.hdf5\n",
      "100/100 [==============================] - 40s 396ms/step - loss: 0.6595 - accuracy: 0.7672 - val_loss: 0.5640 - val_accuracy: 0.8150\n",
      "Epoch 9/50\n",
      "100/100 [==============================] - ETA: 0s - loss: 0.6203 - accuracy: 0.7948\n",
      "Epoch 00009: val_accuracy improved from 0.81500 to 0.83500, saving model to best_model.hdf5\n",
      "100/100 [==============================] - 38s 384ms/step - loss: 0.6203 - accuracy: 0.7948 - val_loss: 0.4999 - val_accuracy: 0.8350\n",
      "Epoch 10/50\n",
      "100/100 [==============================] - ETA: 0s - loss: 0.5644 - accuracy: 0.8086\n",
      "Epoch 00010: val_accuracy did not improve from 0.83500\n",
      "100/100 [==============================] - 39s 390ms/step - loss: 0.5644 - accuracy: 0.8086 - val_loss: 0.5703 - val_accuracy: 0.8219\n",
      "Epoch 11/50\n",
      "100/100 [==============================] - ETA: 0s - loss: 0.5094 - accuracy: 0.8281\n",
      "Epoch 00011: val_accuracy improved from 0.83500 to 0.84250, saving model to best_model.hdf5\n",
      "100/100 [==============================] - 38s 377ms/step - loss: 0.5094 - accuracy: 0.8281 - val_loss: 0.4414 - val_accuracy: 0.8425\n",
      "Epoch 12/50\n",
      "100/100 [==============================] - ETA: 0s - loss: 0.4932 - accuracy: 0.8338\n",
      "Epoch 00012: val_accuracy improved from 0.84250 to 0.85938, saving model to best_model.hdf5\n",
      "100/100 [==============================] - 38s 385ms/step - loss: 0.4932 - accuracy: 0.8338 - val_loss: 0.4244 - val_accuracy: 0.8594\n",
      "Epoch 13/50\n",
      "100/100 [==============================] - ETA: 0s - loss: 0.4373 - accuracy: 0.8577\n",
      "Epoch 00013: val_accuracy improved from 0.85938 to 0.87875, saving model to best_model.hdf5\n",
      "100/100 [==============================] - 38s 375ms/step - loss: 0.4373 - accuracy: 0.8577 - val_loss: 0.3972 - val_accuracy: 0.8788\n",
      "Epoch 14/50\n",
      "100/100 [==============================] - ETA: 0s - loss: 0.4229 - accuracy: 0.8631\n",
      "Epoch 00014: val_accuracy did not improve from 0.87875\n",
      "100/100 [==============================] - 38s 376ms/step - loss: 0.4229 - accuracy: 0.8631 - val_loss: 0.4227 - val_accuracy: 0.8731\n",
      "Epoch 15/50\n",
      "100/100 [==============================] - ETA: 0s - loss: 0.3888 - accuracy: 0.8683\n",
      "Epoch 00015: val_accuracy improved from 0.87875 to 0.88125, saving model to best_model.hdf5\n",
      "100/100 [==============================] - 39s 393ms/step - loss: 0.3888 - accuracy: 0.8683 - val_loss: 0.3972 - val_accuracy: 0.8813\n",
      "Epoch 16/50\n",
      "100/100 [==============================] - ETA: 0s - loss: 0.3728 - accuracy: 0.8720\n",
      "Epoch 00016: val_accuracy improved from 0.88125 to 0.88563, saving model to best_model.hdf5\n",
      "100/100 [==============================] - 39s 389ms/step - loss: 0.3728 - accuracy: 0.8720 - val_loss: 0.3886 - val_accuracy: 0.8856\n",
      "Epoch 17/50\n",
      "100/100 [==============================] - ETA: 0s - loss: 0.3616 - accuracy: 0.8800\n",
      "Epoch 00017: val_accuracy did not improve from 0.88563\n",
      "100/100 [==============================] - 39s 385ms/step - loss: 0.3616 - accuracy: 0.8800 - val_loss: 0.3732 - val_accuracy: 0.8850\n",
      "Epoch 18/50\n",
      "100/100 [==============================] - ETA: 0s - loss: 0.3477 - accuracy: 0.8822\n",
      "Epoch 00018: val_accuracy did not improve from 0.88563\n",
      "100/100 [==============================] - 38s 383ms/step - loss: 0.3477 - accuracy: 0.8822 - val_loss: 0.3926 - val_accuracy: 0.8819\n",
      "Epoch 19/50\n",
      "100/100 [==============================] - ETA: 0s - loss: 0.3159 - accuracy: 0.8955\n",
      "Epoch 00019: val_accuracy improved from 0.88563 to 0.90188, saving model to best_model.hdf5\n",
      "100/100 [==============================] - 38s 382ms/step - loss: 0.3159 - accuracy: 0.8955 - val_loss: 0.3102 - val_accuracy: 0.9019\n",
      "Epoch 20/50\n",
      "100/100 [==============================] - ETA: 0s - loss: 0.3005 - accuracy: 0.9009\n",
      "Epoch 00020: val_accuracy did not improve from 0.90188\n",
      "100/100 [==============================] - 39s 392ms/step - loss: 0.3005 - accuracy: 0.9009 - val_loss: 0.3281 - val_accuracy: 0.8981\n",
      "Epoch 21/50\n",
      "100/100 [==============================] - ETA: 0s - loss: 0.3027 - accuracy: 0.8972\n",
      "Epoch 00021: val_accuracy improved from 0.90188 to 0.90250, saving model to best_model.hdf5\n",
      "100/100 [==============================] - 38s 378ms/step - loss: 0.3027 - accuracy: 0.8972 - val_loss: 0.3343 - val_accuracy: 0.9025\n",
      "Epoch 22/50\n",
      "100/100 [==============================] - ETA: 0s - loss: 0.2834 - accuracy: 0.9091\n",
      "Epoch 00022: val_accuracy improved from 0.90250 to 0.90438, saving model to best_model.hdf5\n",
      "100/100 [==============================] - 37s 374ms/step - loss: 0.2834 - accuracy: 0.9091 - val_loss: 0.3145 - val_accuracy: 0.9044\n",
      "Epoch 23/50\n",
      "100/100 [==============================] - ETA: 0s - loss: 0.2872 - accuracy: 0.9036\n",
      "Epoch 00023: val_accuracy did not improve from 0.90438\n",
      "100/100 [==============================] - 38s 381ms/step - loss: 0.2872 - accuracy: 0.9036 - val_loss: 0.3332 - val_accuracy: 0.8956\n",
      "Epoch 24/50\n",
      "100/100 [==============================] - ETA: 0s - loss: 0.2510 - accuracy: 0.9177\n",
      "Epoch 00024: val_accuracy improved from 0.90438 to 0.91250, saving model to best_model.hdf5\n",
      "100/100 [==============================] - 38s 378ms/step - loss: 0.2510 - accuracy: 0.9177 - val_loss: 0.3004 - val_accuracy: 0.9125\n",
      "Epoch 25/50\n",
      "100/100 [==============================] - ETA: 0s - loss: 0.2517 - accuracy: 0.9181\n",
      "Epoch 00025: val_accuracy improved from 0.91250 to 0.92188, saving model to best_model.hdf5\n",
      "100/100 [==============================] - 40s 397ms/step - loss: 0.2517 - accuracy: 0.9181 - val_loss: 0.2667 - val_accuracy: 0.9219\n"
     ]
    },
    {
     "name": "stdout",
     "output_type": "stream",
     "text": [
      "Epoch 26/50\n",
      "100/100 [==============================] - ETA: 0s - loss: 0.2456 - accuracy: 0.9220\n",
      "Epoch 00026: val_accuracy did not improve from 0.92188\n",
      "100/100 [==============================] - 39s 392ms/step - loss: 0.2456 - accuracy: 0.9220 - val_loss: 0.3028 - val_accuracy: 0.9081\n",
      "Epoch 27/50\n",
      "100/100 [==============================] - ETA: 0s - loss: 0.2423 - accuracy: 0.9197\n",
      "Epoch 00027: val_accuracy did not improve from 0.92188\n",
      "100/100 [==============================] - 38s 382ms/step - loss: 0.2423 - accuracy: 0.9197 - val_loss: 0.3225 - val_accuracy: 0.9175\n",
      "Epoch 28/50\n",
      "100/100 [==============================] - ETA: 0s - loss: 0.2263 - accuracy: 0.9250\n",
      "Epoch 00028: val_accuracy did not improve from 0.92188\n",
      "100/100 [==============================] - 40s 400ms/step - loss: 0.2263 - accuracy: 0.9250 - val_loss: 0.3235 - val_accuracy: 0.9100\n",
      "Epoch 29/50\n",
      "100/100 [==============================] - ETA: 0s - loss: 0.2221 - accuracy: 0.9236\n",
      "Epoch 00029: val_accuracy did not improve from 0.92188\n",
      "100/100 [==============================] - 38s 385ms/step - loss: 0.2221 - accuracy: 0.9236 - val_loss: 0.3232 - val_accuracy: 0.9069\n",
      "Epoch 30/50\n",
      "100/100 [==============================] - ETA: 0s - loss: 0.2227 - accuracy: 0.9273\n",
      "Epoch 00030: val_accuracy did not improve from 0.92188\n",
      "100/100 [==============================] - 38s 377ms/step - loss: 0.2227 - accuracy: 0.9273 - val_loss: 0.2907 - val_accuracy: 0.9050\n",
      "Epoch 00030: early stopping\n"
     ]
    }
   ],
   "source": [
    "EPOCHS = 50\n",
    "history = model.fit(\n",
    "    x=X_train,\n",
    "    y=y_train,\n",
    "    epochs=EPOCHS,\n",
    "    callbacks=[TensorBoard(log_dir='logs', histogram_freq=1, update_freq='epoch'), \n",
    "               EarlyStopping(verbose=1, patience=5), \n",
    "               ModelCheckpoint('best_model_part1.hdf5', monitor='val_accuracy', verbose=1, save_best_only=True, mode='max')],\n",
    "    batch_size=64,\n",
    "    validation_data=(X_test, y_test)\n",
    ")"
   ]
  },
  {
   "cell_type": "code",
   "execution_count": 28,
   "metadata": {},
   "outputs": [
    {
     "data": {
      "image/png": "[encoded data removed]",
      "text/plain": [
       "<Figure size 432x288 with 1 Axes>"
      ]
     },
     "metadata": {
      "needs_background": "light"
     },
     "output_type": "display_data"
    }
   ],
   "source": [
    "metrics = history.history\n",
    "plt.plot(history.epoch, metrics['loss'], metrics['val_loss'])\n",
    "plt.show()"
   ]
  },
  {
   "cell_type": "code",
   "execution_count": 29,
   "metadata": {},
   "outputs": [],
   "source": [
    "# 保存模型\n",
    "# model.save('models/voice_trigger_model.h5')"
   ]
  },
  {
   "cell_type": "markdown",
   "metadata": {},
   "source": [
    "## Evaluate test set performance\n",
    "用麦克录制语音输入，通过模型进行预测结果，详见另外一个notebook《voice_trigger_test_mic.ipynb》"
   ]
  }
 ],
 "metadata": {
  "kernelspec": {
   "display_name": "Python 3",
   "language": "python",
   "name": "python3"
  },
  "language_info": {
   "codemirror_mode": {
    "name": "ipython",
    "version": 3
   },
   "file_extension": ".py",
   "mimetype": "text/x-python",
   "name": "python",
   "nbconvert_exporter": "python",
   "pygments_lexer": "ipython3",
   "version": "3.8.3"
  }
 },
 "nbformat": 4,
 "nbformat_minor": 4
}
